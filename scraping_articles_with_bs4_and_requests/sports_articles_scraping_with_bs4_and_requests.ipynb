{
 "cells": [
  {
   "cell_type": "code",
   "execution_count": 1,
   "metadata": {},
   "outputs": [],
   "source": [
    "from bs4 import BeautifulSoup as soup\n",
    "import requests"
   ]
  },
  {
   "cell_type": "code",
   "execution_count": 2,
   "metadata": {},
   "outputs": [],
   "source": [
    "bbc_new_url = \"https://www.indiatvnews.com/sports/other/indias-fastest-woman-athlete-dutee-chand-handed-four-year-ban-for-failing-dope-tests-2023-08-18-887405\""
   ]
  },
  {
   "cell_type": "code",
   "execution_count": 3,
   "metadata": {},
   "outputs": [],
   "source": [
    "r = requests.get(bbc_new_url)"
   ]
  },
  {
   "cell_type": "code",
   "execution_count": 4,
   "metadata": {},
   "outputs": [],
   "source": [
    "b = soup(r.content, 'lxml')"
   ]
  },
  {
   "cell_type": "code",
   "execution_count": 6,
   "metadata": {},
   "outputs": [
    {
     "name": "stdout",
     "output_type": "stream",
     "text": [
      "India's fastest woman athlete Dutee Chand has been handed with a four-year ban for failing two out-of-competition dope tests for selective androgen receptor modulators (SARMs). The Indian star, who holds the national record of 100m, gets a ban effective from January 3, 2023, Dutee was tested twice by NADA's control officers on December 5 and 26 in Bhubaneswar.  \n",
      "\n"
     ]
    }
   ],
   "source": [
    "for news in b.find_all('p',{'class' : \"artconfp\"}):\n",
    "    print(news.text)"
   ]
  },
  {
   "cell_type": "code",
   "execution_count": 8,
   "metadata": {},
   "outputs": [
    {
     "data": {
      "text/plain": [
       "['https://www.indiatvnews.com/']"
      ]
     },
     "execution_count": 8,
     "metadata": {},
     "output_type": "execute_result"
    }
   ],
   "source": [
    "links = []\n",
    "\n",
    "for news_section in b.find_all('ul',{'class' : \"menu megamenu\"}):\n",
    "    links.append(news_section.a['href'])\n",
    "\n",
    "links"
   ]
  },
  {
   "cell_type": "code",
   "execution_count": 56,
   "metadata": {},
   "outputs": [],
   "source": [
    "import csv\n",
    "\n",
    "# Create empty lists to store the data\n",
    "headlines = []\n",
    "complete_articles = []\n",
    "\n",
    "for link in links:\n",
    "    page = requests.get(link)\n",
    "    bsobj = soup(page.content, 'html.parser')\n",
    "    for headline in bsobj.find_all('h1', {'class': 'arttitle'}):\n",
    "        headlines.append(headline.text.strip())\n",
    "    for complete_article in bsobj.find_all('p', {'class': 'ssrcss-1q0x1qg-Paragraph e1jhz7w10'}):\n",
    "        complete_articles.append(complete_article.text.strip())\n",
    "\n",
    "# Create a list of dictionaries to store the data\n",
    "data = []\n",
    "for i, (headline, article) in enumerate(zip(headlines, complete_articles), start=1):\n",
    "    data.append({'Sr No': i, 'Headline': headline, 'Complete Article': article})\n",
    "\n",
    "# Define the CSV file path\n",
    "csv_file_path = '..\\\\articles_scraped_using_bs4_and_requests\\\\bbc_sports_articles.csv'\n",
    "\n",
    "# Write data to the CSV file using normal file handling\n",
    "with open(csv_file_path, 'w', newline='', encoding='utf-8') as csvfile:\n",
    "    fieldnames = ['Sr No', 'Headline', 'Complete Article']\n",
    "    writer = csv.DictWriter(csvfile, fieldnames=fieldnames)\n",
    "    \n",
    "    writer.writeheader()  # Write the header row\n",
    "    \n",
    "    for entry in data:\n",
    "        writer.writerow(entry)\n"
   ]
  },
  {
   "cell_type": "code",
   "execution_count": 8,
   "metadata": {},
   "outputs": [],
   "source": [
    "import pandas as pd\n",
    "\n",
    "# Load the first CSV file\n",
    "file1 = pd.read_csv('C:\\Users\\OMOLP094\\Desktop\\Gender-Representation-in-Sports-Media-An-NLP-Exploration-of-Bias-in-News-Articles\\articles_scraped_using_bs4_and_requests\\toi_sports_articles.csv')\n",
    "\n",
    "# Load the second CSV file\n",
    "file2 = pd.read_csv('C:\\Users\\OMOLP094\\Desktop\\Gender-Representation-in-Sports-Media-An-NLP-Exploration-of-Bias-in-News-Articles\\articles_scraped_using_bs4_and_requests\\ndtv_sports_articles.csv')\n",
    "\n",
    "# Create a new DataFrame for the merged data\n",
    "merged_data = pd.concat([file1, file2], ignore_index=True)\n",
    "\n",
    "# Add a new 'serial number' column with a sequence\n",
    "merged_data['Sr No'] = range(1, len(merged_data) + 1)\n",
    "\n",
    "# Save the merged data to a new CSV file\n",
    "merged_data.to_csv('C:\\\\Users\\\\OMOLP094\\\\Desktop\\\\Gender-Representation-in-Sports-Media-An-NLP-Exploration-of-Bias-in-News-Articles\\\\analysis_on_dataset_containing_articles_scraped_using_newspapers3k_and_bs4\\\\female_athletes_articles_scraped_using_bs4_and_requests.csv', index=False)"
   ]
  }
 ],
 "metadata": {
  "kernelspec": {
   "display_name": "Python 3",
   "language": "python",
   "name": "python3"
  },
  "language_info": {
   "codemirror_mode": {
    "name": "ipython",
    "version": 3
   },
   "file_extension": ".py",
   "mimetype": "text/x-python",
   "name": "python",
   "nbconvert_exporter": "python",
   "pygments_lexer": "ipython3",
   "version": "3.11.3"
  }
 },
 "nbformat": 4,
 "nbformat_minor": 2
}
